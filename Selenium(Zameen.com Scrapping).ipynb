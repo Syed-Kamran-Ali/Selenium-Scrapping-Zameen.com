{
 "cells": [
  {
   "cell_type": "code",
   "execution_count": 1,
   "id": "a8f4e19b",
   "metadata": {},
   "outputs": [],
   "source": [
    "# relevant packages & modules\n",
    "from selenium import webdriver\n",
    "from selenium.webdriver.common.keys import Keys\n",
    "from selenium.webdriver.common.by import By\n",
    "from selenium.webdriver.chrome.options import Options\n",
    "import time\n"
   ]
  },
  {
   "cell_type": "code",
   "execution_count": 2,
   "id": "ec805e6e",
   "metadata": {},
   "outputs": [
    {
     "name": "stderr",
     "output_type": "stream",
     "text": [
      "C:\\Users\\Syed Kamran Ali\\AppData\\Local\\Temp\\ipykernel_8676\\1504923265.py:2: DeprecationWarning: executable_path has been deprecated, please pass in a Service object\n",
      "  driver = webdriver.Chrome(\"C:\\Chrome WebDriver\\chromedriver.exe\")\n"
     ]
    }
   ],
   "source": [
    "website = 'https://www.zameen.com/Homes/Karachi_Gulshan_e_Iqbal_Town-6858-1.html'\n",
    "driver = webdriver.Chrome(\"C:\\Chrome WebDriver\\chromedriver.exe\")\n",
    "driver.get(website)\n",
    "driver.maximize_window()"
   ]
  },
  {
   "cell_type": "markdown",
   "id": "aef21ee1",
   "metadata": {},
   "source": [
    "## Price"
   ]
  },
  {
   "cell_type": "code",
   "execution_count": 3,
   "id": "d05cc9db",
   "metadata": {},
   "outputs": [
    {
     "data": {
      "text/plain": [
       "['1.2 Crore',\n",
       " '1.4 Crore',\n",
       " '10.5 Crore',\n",
       " '4 Crore',\n",
       " '80.56 Lakh',\n",
       " '5.25 Crore',\n",
       " '8.25 Crore',\n",
       " '16.5 Crore',\n",
       " '1.2 Crore',\n",
       " '4 Crore',\n",
       " '19 Crore',\n",
       " '3.4 Crore',\n",
       " '1.1 Crore',\n",
       " '3.85 Crore',\n",
       " '75 Lakh',\n",
       " '58 Lakh',\n",
       " '2.7 Crore',\n",
       " '2.95 Crore',\n",
       " '3.05 Crore',\n",
       " '6.75 Crore',\n",
       " '4.5 Crore',\n",
       " '12 Crore',\n",
       " '1.5 Crore',\n",
       " '2.5 Crore',\n",
       " '1.65 Crore']"
      ]
     },
     "execution_count": 3,
     "metadata": {},
     "output_type": "execute_result"
    }
   ],
   "source": [
    "prices= driver.find_elements(By.CLASS_NAME,'f343d9ce')\n",
    "price_lst=[]\n",
    "for i in prices:\n",
    "    price_lst.append(i.text)\n",
    "price_lst"
   ]
  },
  {
   "cell_type": "markdown",
   "id": "fe07debb",
   "metadata": {},
   "source": [
    "## Addresses"
   ]
  },
  {
   "cell_type": "code",
   "execution_count": 4,
   "id": "9a18dccc",
   "metadata": {},
   "outputs": [
    {
     "data": {
      "text/plain": [
       "[]"
      ]
     },
     "execution_count": 4,
     "metadata": {},
     "output_type": "execute_result"
    }
   ],
   "source": [
    "xpath_address = '//*[@id=\"body-wrapper\"]/main/div[3]/div[2]/div[4]/div[1]/ul/li/article/div[3]/div[2]/div[2]/div[1]'\n",
    "addresses = driver.find_elements(By.XPATH,xpath_address)\n",
    "address_lst = []\n",
    "for address in addresses:\n",
    "    address_lst.append(address.text)\n",
    "len(address_lst)\n",
    "address_lst"
   ]
  },
  {
   "cell_type": "markdown",
   "id": "f64720af",
   "metadata": {},
   "source": [
    "## Property details"
   ]
  },
  {
   "cell_type": "code",
   "execution_count": 5,
   "id": "5b0132ff",
   "metadata": {},
   "outputs": [
    {
     "name": "stdout",
     "output_type": "stream",
     "text": [
      "['150 Sq. Yd.', '130 Sq. Yd.', '400 Sq. Yd', '135 Sq. Yd.', '81 Sq. Yd.', '125 Sq. Yd.', '418 Sq. Yd.', '500 Sq. Yd.', '117 Sq. Yd.', '200 Sq. Yd.', '600 Sq. Yd.', '120 Sq. Yd.', '200 Sq. Yd.', '150 Sq. Yd.', '80 Sq. Yd.', '78 Sq. Yd.', '250 Sq. Yd.', '250 Sq. Yd.', '206 Sq. Yd.', '300 Sq. Yd.', '333 Sq. Yd.', '300 Sq. Yd.', '150 Sq. Yd.', '122 Sq. Yd.', '111 Sq. Yd.']\n",
      "['3', '3', '9', '4', '2', '4', '8', '7', '2', '4', '6', '5', '3', '7', '2', '2', '3', '4', '4', '6', '4', '3', '2', '2', '2']\n"
     ]
    },
    {
     "data": {
      "text/plain": [
       "['3',\n",
       " '3',\n",
       " '10',\n",
       " '4',\n",
       " '2',\n",
       " '4',\n",
       " '8',\n",
       " '8',\n",
       " '2',\n",
       " '4',\n",
       " '6',\n",
       " '5',\n",
       " '3',\n",
       " '6',\n",
       " '2',\n",
       " '2',\n",
       " '3',\n",
       " '4',\n",
       " '4',\n",
       " '6',\n",
       " '4',\n",
       " '3',\n",
       " '3',\n",
       " '2',\n",
       " '2']"
      ]
     },
     "execution_count": 5,
     "metadata": {},
     "output_type": "execute_result"
    }
   ],
   "source": [
    "home_details = driver.find_elements(By.CLASS_NAME,'_1da99a35')\n",
    "area_lst= []\n",
    "no_of_rooms_lst = []\n",
    "no_of_bathrooms_lst = []\n",
    "\n",
    "for i in home_details:\n",
    "    area_lst.append((i.text)[4:15].strip())\n",
    "    no_of_rooms_lst.append((i.text)[0])\n",
    "    no_of_bathrooms_lst.append((i.text)[2:4].strip())\n",
    "\n",
    "print(area_lst)\n",
    "print(no_of_rooms_lst)\n",
    "no_of_bathrooms_lst\n",
    "    "
   ]
  },
  {
   "cell_type": "markdown",
   "id": "2d6f531c",
   "metadata": {},
   "source": [
    "## Listing adding and updating"
   ]
  },
  {
   "cell_type": "code",
   "execution_count": 6,
   "id": "4d01a3b4",
   "metadata": {},
   "outputs": [
    {
     "data": {
      "text/plain": [
       "['Added: 2 days ago',\n",
       " 'Added: 4 days ago',\n",
       " 'Added: 19 hours ago\\n(Updated: 11 hours ago)',\n",
       " 'Added: 1 day ago',\n",
       " 'Added: 1 day ago',\n",
       " 'Added: 2 days ago\\n(Updated: 2 days ago)',\n",
       " 'Added: 2 days ago',\n",
       " 'Added: 2 days ago\\n(Updated: 1 day ago)',\n",
       " 'Added: 3 days ago',\n",
       " 'Added: 3 days ago',\n",
       " 'Added: 2 hours ago',\n",
       " 'Added: 1 week ago\\n(Updated: 1 week ago)',\n",
       " 'Added: 9 minutes ago',\n",
       " 'Added: 12 minutes ago',\n",
       " 'Added: 21 minutes ago',\n",
       " 'Added: 30 minutes ago',\n",
       " 'Added: 3 hours ago',\n",
       " 'Added: 4 minutes ago\\n(Updated: 4 minutes ago)',\n",
       " 'Added: 1 hour ago\\n(Updated: 1 hour ago)',\n",
       " 'Added: 2 hours ago',\n",
       " 'Added: 3 hours ago',\n",
       " 'Added: 4 hours ago',\n",
       " 'Added: 6 hours ago',\n",
       " 'Added: 6 hours ago',\n",
       " 'Added: 6 hours ago']"
      ]
     },
     "execution_count": 6,
     "metadata": {},
     "output_type": "execute_result"
    }
   ],
   "source": [
    "listing_added = driver.find_elements(By.CLASS_NAME,\"_08b01580\")\n",
    "listing_lst = []\n",
    "for i in listing_added:\n",
    "    listing_lst.append(i.text)\n",
    "listing_lst"
   ]
  },
  {
   "cell_type": "markdown",
   "id": "8d477c64",
   "metadata": {},
   "source": [
    "## Verified"
   ]
  },
  {
   "cell_type": "code",
   "execution_count": 7,
   "id": "05a40929",
   "metadata": {},
   "outputs": [
    {
     "data": {
      "text/plain": [
       "['Verified',\n",
       " 'Verified',\n",
       " 'Not Verified',\n",
       " 'Verified',\n",
       " 'Not Verified',\n",
       " 'Not Verified',\n",
       " 'Not Verified',\n",
       " 'Not Verified',\n",
       " 'Not Verified',\n",
       " 'Verified',\n",
       " 'Not Verified',\n",
       " 'Not Verified',\n",
       " 'Not Verified',\n",
       " 'Not Verified',\n",
       " 'Not Verified',\n",
       " 'Not Verified',\n",
       " 'Not Verified',\n",
       " 'Not Verified',\n",
       " 'Not Verified',\n",
       " 'Not Verified',\n",
       " 'Not Verified',\n",
       " 'Not Verified',\n",
       " 'Not Verified',\n",
       " 'Not Verified',\n",
       " 'Verified']"
      ]
     },
     "execution_count": 7,
     "metadata": {},
     "output_type": "execute_result"
    }
   ],
   "source": [
    "a = driver.find_elements(By.CLASS_NAME,'_54799766')\n",
    "verification_lst = []\n",
    "for i in a:\n",
    "    if i.text == \"Verified\":\n",
    "        verification_lst.append(i.text)\n",
    "    else:\n",
    "        verification_lst.append(\"Not Verified\")\n",
    "        \n",
    "verification_lst"
   ]
  },
  {
   "cell_type": "markdown",
   "id": "8ab87ff5",
   "metadata": {},
   "source": [
    "## Creating DataFrame"
   ]
  },
  {
   "cell_type": "code",
   "execution_count": 8,
   "id": "726f2144",
   "metadata": {},
   "outputs": [],
   "source": [
    "import pandas as pd\n"
   ]
  },
  {
   "cell_type": "code",
   "execution_count": 10,
   "id": "5cf1b063",
   "metadata": {},
   "outputs": [
    {
     "ename": "ValueError",
     "evalue": "All arrays must be of the same length",
     "output_type": "error",
     "traceback": [
      "\u001b[1;31m---------------------------------------------------------------------------\u001b[0m",
      "\u001b[1;31mValueError\u001b[0m                                Traceback (most recent call last)",
      "\u001b[1;32m~\\AppData\\Local\\Temp\\ipykernel_8676\\758608629.py\u001b[0m in \u001b[0;36m<module>\u001b[1;34m\u001b[0m\n\u001b[1;32m----> 1\u001b[1;33m df = pd.DataFrame({\"PRICE\":price_lst,\n\u001b[0m\u001b[0;32m      2\u001b[0m                   \u001b[1;34m\"ADDRESS\"\u001b[0m\u001b[1;33m:\u001b[0m\u001b[0maddress_lst\u001b[0m\u001b[1;33m,\u001b[0m\u001b[1;33m\u001b[0m\u001b[1;33m\u001b[0m\u001b[0m\n\u001b[0;32m      3\u001b[0m                   \u001b[1;34m\"AREA\"\u001b[0m\u001b[1;33m:\u001b[0m\u001b[0marea_lst\u001b[0m\u001b[1;33m,\u001b[0m\u001b[1;33m\u001b[0m\u001b[1;33m\u001b[0m\u001b[0m\n\u001b[0;32m      4\u001b[0m                   \u001b[1;34m\"ROOMS\"\u001b[0m\u001b[1;33m:\u001b[0m\u001b[0mno_of_rooms_lst\u001b[0m\u001b[1;33m,\u001b[0m\u001b[1;33m\u001b[0m\u001b[1;33m\u001b[0m\u001b[0m\n\u001b[0;32m      5\u001b[0m                   \u001b[1;34m\"BATHROOM\"\u001b[0m\u001b[1;33m:\u001b[0m\u001b[0mno_of_bathrooms_lst\u001b[0m\u001b[1;33m,\u001b[0m\u001b[1;33m\u001b[0m\u001b[1;33m\u001b[0m\u001b[0m\n",
      "\u001b[1;32mC:\\Anaconda\\lib\\site-packages\\pandas\\core\\frame.py\u001b[0m in \u001b[0;36m__init__\u001b[1;34m(self, data, index, columns, dtype, copy)\u001b[0m\n\u001b[0;32m    634\u001b[0m         \u001b[1;32melif\u001b[0m \u001b[0misinstance\u001b[0m\u001b[1;33m(\u001b[0m\u001b[0mdata\u001b[0m\u001b[1;33m,\u001b[0m \u001b[0mdict\u001b[0m\u001b[1;33m)\u001b[0m\u001b[1;33m:\u001b[0m\u001b[1;33m\u001b[0m\u001b[1;33m\u001b[0m\u001b[0m\n\u001b[0;32m    635\u001b[0m             \u001b[1;31m# GH#38939 de facto copy defaults to False only in non-dict cases\u001b[0m\u001b[1;33m\u001b[0m\u001b[1;33m\u001b[0m\u001b[0m\n\u001b[1;32m--> 636\u001b[1;33m             \u001b[0mmgr\u001b[0m \u001b[1;33m=\u001b[0m \u001b[0mdict_to_mgr\u001b[0m\u001b[1;33m(\u001b[0m\u001b[0mdata\u001b[0m\u001b[1;33m,\u001b[0m \u001b[0mindex\u001b[0m\u001b[1;33m,\u001b[0m \u001b[0mcolumns\u001b[0m\u001b[1;33m,\u001b[0m \u001b[0mdtype\u001b[0m\u001b[1;33m=\u001b[0m\u001b[0mdtype\u001b[0m\u001b[1;33m,\u001b[0m \u001b[0mcopy\u001b[0m\u001b[1;33m=\u001b[0m\u001b[0mcopy\u001b[0m\u001b[1;33m,\u001b[0m \u001b[0mtyp\u001b[0m\u001b[1;33m=\u001b[0m\u001b[0mmanager\u001b[0m\u001b[1;33m)\u001b[0m\u001b[1;33m\u001b[0m\u001b[1;33m\u001b[0m\u001b[0m\n\u001b[0m\u001b[0;32m    637\u001b[0m         \u001b[1;32melif\u001b[0m \u001b[0misinstance\u001b[0m\u001b[1;33m(\u001b[0m\u001b[0mdata\u001b[0m\u001b[1;33m,\u001b[0m \u001b[0mma\u001b[0m\u001b[1;33m.\u001b[0m\u001b[0mMaskedArray\u001b[0m\u001b[1;33m)\u001b[0m\u001b[1;33m:\u001b[0m\u001b[1;33m\u001b[0m\u001b[1;33m\u001b[0m\u001b[0m\n\u001b[0;32m    638\u001b[0m             \u001b[1;32mimport\u001b[0m \u001b[0mnumpy\u001b[0m\u001b[1;33m.\u001b[0m\u001b[0mma\u001b[0m\u001b[1;33m.\u001b[0m\u001b[0mmrecords\u001b[0m \u001b[1;32mas\u001b[0m \u001b[0mmrecords\u001b[0m\u001b[1;33m\u001b[0m\u001b[1;33m\u001b[0m\u001b[0m\n",
      "\u001b[1;32mC:\\Anaconda\\lib\\site-packages\\pandas\\core\\internals\\construction.py\u001b[0m in \u001b[0;36mdict_to_mgr\u001b[1;34m(data, index, columns, dtype, typ, copy)\u001b[0m\n\u001b[0;32m    500\u001b[0m         \u001b[1;31m# TODO: can we get rid of the dt64tz special case above?\u001b[0m\u001b[1;33m\u001b[0m\u001b[1;33m\u001b[0m\u001b[0m\n\u001b[0;32m    501\u001b[0m \u001b[1;33m\u001b[0m\u001b[0m\n\u001b[1;32m--> 502\u001b[1;33m     \u001b[1;32mreturn\u001b[0m \u001b[0marrays_to_mgr\u001b[0m\u001b[1;33m(\u001b[0m\u001b[0marrays\u001b[0m\u001b[1;33m,\u001b[0m \u001b[0mcolumns\u001b[0m\u001b[1;33m,\u001b[0m \u001b[0mindex\u001b[0m\u001b[1;33m,\u001b[0m \u001b[0mdtype\u001b[0m\u001b[1;33m=\u001b[0m\u001b[0mdtype\u001b[0m\u001b[1;33m,\u001b[0m \u001b[0mtyp\u001b[0m\u001b[1;33m=\u001b[0m\u001b[0mtyp\u001b[0m\u001b[1;33m,\u001b[0m \u001b[0mconsolidate\u001b[0m\u001b[1;33m=\u001b[0m\u001b[0mcopy\u001b[0m\u001b[1;33m)\u001b[0m\u001b[1;33m\u001b[0m\u001b[1;33m\u001b[0m\u001b[0m\n\u001b[0m\u001b[0;32m    503\u001b[0m \u001b[1;33m\u001b[0m\u001b[0m\n\u001b[0;32m    504\u001b[0m \u001b[1;33m\u001b[0m\u001b[0m\n",
      "\u001b[1;32mC:\\Anaconda\\lib\\site-packages\\pandas\\core\\internals\\construction.py\u001b[0m in \u001b[0;36marrays_to_mgr\u001b[1;34m(arrays, columns, index, dtype, verify_integrity, typ, consolidate)\u001b[0m\n\u001b[0;32m    118\u001b[0m         \u001b[1;31m# figure out the index, if necessary\u001b[0m\u001b[1;33m\u001b[0m\u001b[1;33m\u001b[0m\u001b[0m\n\u001b[0;32m    119\u001b[0m         \u001b[1;32mif\u001b[0m \u001b[0mindex\u001b[0m \u001b[1;32mis\u001b[0m \u001b[1;32mNone\u001b[0m\u001b[1;33m:\u001b[0m\u001b[1;33m\u001b[0m\u001b[1;33m\u001b[0m\u001b[0m\n\u001b[1;32m--> 120\u001b[1;33m             \u001b[0mindex\u001b[0m \u001b[1;33m=\u001b[0m \u001b[0m_extract_index\u001b[0m\u001b[1;33m(\u001b[0m\u001b[0marrays\u001b[0m\u001b[1;33m)\u001b[0m\u001b[1;33m\u001b[0m\u001b[1;33m\u001b[0m\u001b[0m\n\u001b[0m\u001b[0;32m    121\u001b[0m         \u001b[1;32melse\u001b[0m\u001b[1;33m:\u001b[0m\u001b[1;33m\u001b[0m\u001b[1;33m\u001b[0m\u001b[0m\n\u001b[0;32m    122\u001b[0m             \u001b[0mindex\u001b[0m \u001b[1;33m=\u001b[0m \u001b[0mensure_index\u001b[0m\u001b[1;33m(\u001b[0m\u001b[0mindex\u001b[0m\u001b[1;33m)\u001b[0m\u001b[1;33m\u001b[0m\u001b[1;33m\u001b[0m\u001b[0m\n",
      "\u001b[1;32mC:\\Anaconda\\lib\\site-packages\\pandas\\core\\internals\\construction.py\u001b[0m in \u001b[0;36m_extract_index\u001b[1;34m(data)\u001b[0m\n\u001b[0;32m    672\u001b[0m             \u001b[0mlengths\u001b[0m \u001b[1;33m=\u001b[0m \u001b[0mlist\u001b[0m\u001b[1;33m(\u001b[0m\u001b[0mset\u001b[0m\u001b[1;33m(\u001b[0m\u001b[0mraw_lengths\u001b[0m\u001b[1;33m)\u001b[0m\u001b[1;33m)\u001b[0m\u001b[1;33m\u001b[0m\u001b[1;33m\u001b[0m\u001b[0m\n\u001b[0;32m    673\u001b[0m             \u001b[1;32mif\u001b[0m \u001b[0mlen\u001b[0m\u001b[1;33m(\u001b[0m\u001b[0mlengths\u001b[0m\u001b[1;33m)\u001b[0m \u001b[1;33m>\u001b[0m \u001b[1;36m1\u001b[0m\u001b[1;33m:\u001b[0m\u001b[1;33m\u001b[0m\u001b[1;33m\u001b[0m\u001b[0m\n\u001b[1;32m--> 674\u001b[1;33m                 \u001b[1;32mraise\u001b[0m \u001b[0mValueError\u001b[0m\u001b[1;33m(\u001b[0m\u001b[1;34m\"All arrays must be of the same length\"\u001b[0m\u001b[1;33m)\u001b[0m\u001b[1;33m\u001b[0m\u001b[1;33m\u001b[0m\u001b[0m\n\u001b[0m\u001b[0;32m    675\u001b[0m \u001b[1;33m\u001b[0m\u001b[0m\n\u001b[0;32m    676\u001b[0m             \u001b[1;32mif\u001b[0m \u001b[0mhave_dicts\u001b[0m\u001b[1;33m:\u001b[0m\u001b[1;33m\u001b[0m\u001b[1;33m\u001b[0m\u001b[0m\n",
      "\u001b[1;31mValueError\u001b[0m: All arrays must be of the same length"
     ]
    }
   ],
   "source": [
    "df = pd.DataFrame({\"PRICE\":price_lst,\n",
    "                  \"ADDRESS\":address_lst,\n",
    "                  \"AREA\":area_lst,\n",
    "                  \"ROOMS\":no_of_rooms_lst,\n",
    "                  \"BATHROOM\":no_of_bathrooms_lst,\n",
    "                  \"LISTING_TIME\":listing_lst,\n",
    "                  \"ZAMEEN_VERIFIED\":verification_lst    \n",
    "})\n"
   ]
  },
  {
   "cell_type": "code",
   "execution_count": null,
   "id": "44fb79af",
   "metadata": {},
   "outputs": [],
   "source": [
    "df"
   ]
  },
  {
   "cell_type": "code",
   "execution_count": null,
   "id": "a66c47b8",
   "metadata": {},
   "outputs": [],
   "source": []
  }
 ],
 "metadata": {
  "kernelspec": {
   "display_name": "Python 3 (ipykernel)",
   "language": "python",
   "name": "python3"
  },
  "language_info": {
   "codemirror_mode": {
    "name": "ipython",
    "version": 3
   },
   "file_extension": ".py",
   "mimetype": "text/x-python",
   "name": "python",
   "nbconvert_exporter": "python",
   "pygments_lexer": "ipython3",
   "version": "3.9.13"
  }
 },
 "nbformat": 4,
 "nbformat_minor": 5
}
